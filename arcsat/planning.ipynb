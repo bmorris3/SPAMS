{
 "cells": [
  {
   "cell_type": "markdown",
   "metadata": {},
   "source": [
    "# Which Landolt (1992) standard stars are visible tonight?\n",
    "\n",
    "Use `astroquery` to get a table of [Landolt (1992)](http://adsabs.harvard.edu/abs/1992AJ....104..340L) standard stars from Vizier. "
   ]
  },
  {
   "cell_type": "code",
   "execution_count": 1,
   "metadata": {
    "collapsed": true
   },
   "outputs": [],
   "source": [
    "catalog_name = 'Landolt 1992'\n",
    "observatory_name = 'Apache Point'"
   ]
  },
  {
   "cell_type": "code",
   "execution_count": 2,
   "metadata": {
    "collapsed": false
   },
   "outputs": [
    {
     "name": "stderr",
     "output_type": "stream",
     "text": [
      "/astro/users/bmmorris/.local/lib/python2.7/site-packages/astroquery/vizier/core.py:685: UserWarning: VOTABLE parsing raised exception: \n",
      "  warnings.warn(\"VOTABLE parsing raised exception: {0}\".format(ex))\n"
     ]
    }
   ],
   "source": [
    "from astroquery.vizier import Vizier\n",
    "from astropy.coordinates import SkyCoord\n",
    "import astropy.units as u\n",
    "\n",
    "catalog_list = Vizier.find_catalogs(catalog_name)\n",
    "catalogs = Vizier.get_catalogs(catalog_list.keys())\n",
    "Vizier.ROW_LIMIT = -1   # Otherwise would only show first 50 values\n",
    "catalog_table = catalogs[0] # This is the table with the data\n",
    "\n",
    "RAs = u.Quantity(catalog_table['_RAJ2000'].data, unit=u.deg)\n",
    "Decs = u.Quantity(catalog_table['_DEJ2000'].data, unit=u.deg)\n",
    "names = list(catalog_table['SimbadName'].data)\n",
    "\n",
    "landolt_standards = SkyCoord(ra=RAs, dec=Decs)"
   ]
  },
  {
   "cell_type": "markdown",
   "metadata": {},
   "source": [
    "Set up an `Observer` and list of `FixedTarget`s in astroplan."
   ]
  },
  {
   "cell_type": "code",
   "execution_count": 3,
   "metadata": {
    "collapsed": false
   },
   "outputs": [],
   "source": [
    "from astroplan import Observer, FixedTarget\n",
    "\n",
    "obs = Observer.at_site(observatory_name)\n",
    "\n",
    "target_list = [FixedTarget(coord=coord, name=name) \n",
    "               for coord, name in zip(landolt_standards, names)]"
   ]
  },
  {
   "cell_type": "markdown",
   "metadata": {},
   "source": [
    "Determine which standards are observable tonight."
   ]
  },
  {
   "cell_type": "code",
   "execution_count": 4,
   "metadata": {
    "collapsed": false
   },
   "outputs": [
    {
     "name": "stdout",
     "output_type": "stream",
     "text": [
      " target name  ever observable always observable fraction of time observable\n",
      "------------- --------------- ----------------- ---------------------------\n",
      "[L92b] TPHE A           False             False                         0.0\n",
      "[L92b] TPHE B           False             False                         0.0\n",
      "[L92b] TPHE C           False             False                         0.0\n",
      "[L92b] TPHE D           False             False                         0.0\n",
      "[L92b] TPHE E           False             False                         0.0\n",
      "[L92b] TPHE F           False             False                         0.0\n",
      "[L92b] TPHE G           False             False                         0.0\n",
      "   PG0029+024            True             False              0.344827586207\n",
      "   PG0039+049            True             False              0.379310344828\n",
      "    SA 92 309            True             False              0.379310344828\n",
      "          ...             ...               ...                         ...\n",
      "    SA 92 355            True             False              0.379310344828\n",
      "    SA 92 427            True             False              0.379310344828\n",
      "    SA 92 502            True             False              0.379310344828\n",
      "    SA 92 430            True             False              0.379310344828\n",
      "    SA 92 276            True             False              0.379310344828\n",
      "    SA 92 282            True             False              0.379310344828\n",
      "    SA 92 508            True             False              0.379310344828\n",
      "    SA 92 507            True             False              0.379310344828\n",
      "    SA 92 364            True             False              0.379310344828\n",
      "    SA 92 433            True             False              0.379310344828\n",
      "    SA 92 288            True             False              0.379310344828\n",
      "Length = 50 rows\n"
     ]
    }
   ],
   "source": [
    "from astroplan import is_observable, observability_table, AltitudeConstraint, AtNightConstraint\n",
    "from astropy.time import Time\n",
    "\n",
    "constraints = [AltitudeConstraint(min=25*u.deg), \n",
    "               AtNightConstraint.twilight_astronomical()]\n",
    "\n",
    "# Figure out when \"tonight\" is\n",
    "present_time = Time.now()\n",
    "if not obs.is_night(present_time):\n",
    "    # If it's currently day time at runtime, find time of sunset and sunrise\n",
    "    tonight_start = obs.sun_set_time(present_time, which='next')\n",
    "    tonight_end = obs.sun_rise_time(present_time, which='next')\n",
    "else:\n",
    "    # Otherwise find time to next sunrise\n",
    "    tonight_start = present_time\n",
    "    tonight_end = obs.sun_rise_time(present_time, which='next')\n",
    "\n",
    "table = observability_table(constraints, obs, target_list, \n",
    "                            time_range=Time([tonight_start, tonight_end]))\n",
    "print(table)"
   ]
  },
  {
   "cell_type": "code",
   "execution_count": null,
   "metadata": {
    "collapsed": true
   },
   "outputs": [],
   "source": []
  }
 ],
 "metadata": {
  "kernelspec": {
   "display_name": "Python 2",
   "language": "python",
   "name": "python2"
  },
  "language_info": {
   "codemirror_mode": {
    "name": "ipython",
    "version": 2
   },
   "file_extension": ".py",
   "mimetype": "text/x-python",
   "name": "python",
   "nbconvert_exporter": "python",
   "pygments_lexer": "ipython2",
   "version": "2.7.10"
  }
 },
 "nbformat": 4,
 "nbformat_minor": 0
}
