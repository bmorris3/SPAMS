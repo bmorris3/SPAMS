{
 "metadata": {
  "name": "",
  "signature": "sha256:969538785afb39c041c7cac2640bde455d6714154ae197ef69567547618d9fe4"
 },
 "nbformat": 3,
 "nbformat_minor": 0,
 "worksheets": [
  {
   "cells": [
    {
     "cell_type": "heading",
     "level": 1,
     "metadata": {},
     "source": [
      "SPAMS Tutorials"
     ]
    },
    {
     "cell_type": "markdown",
     "metadata": {},
     "source": [
      "Here are some tutorials on how to use `querycds` and other tools for SPAMS!"
     ]
    },
    {
     "cell_type": "heading",
     "level": 2,
     "metadata": {},
     "source": [
      "`querycds` Basics"
     ]
    },
    {
     "cell_type": "markdown",
     "metadata": {},
     "source": [
      "Here's how to find basic info for a star. The star we'll use is WD 2148+286, and you can see the SIMBAD page that we'll be querying [here](http://simbad.cfa.harvard.edu/simbad/sim-basic?Ident=WD+2148%2B286&submit=SIMBAD+search)."
     ]
    },
    {
     "cell_type": "code",
     "collapsed": false,
     "input": [
      "# Import the querycds module\n",
      "import querycds as q\n",
      "\n",
      "# Make an instance of a star object, which queries SIMBAD by default\n",
      "whitedwarf = q.star('WD 2148+286')\n",
      "\n",
      "# The star object stores its raw data in a dictionary, which you can access like this\n",
      "print '\\nDictionary:', whitedwarf.dictionary\n",
      "\n",
      "# You can get individual pieces of information by accessing a key from the dictionary\n",
      "print '\\nU-band magnitude:', whitedwarf.dictionary['U']\n",
      "\n",
      "# The typical information grabbed is:\n",
      "print '\\nTypical keys:', ', '.join(whitedwarf.dictionary.keys())"
     ],
     "language": "python",
     "metadata": {},
     "outputs": [
      {
       "output_type": "stream",
       "stream": "stdout",
       "text": [
        "Querying Simbad for WD 2148+286...\n",
        "Querying Vizier for WD 2148+286 (as target)..."
       ]
      },
      {
       "output_type": "stream",
       "stream": "stdout",
       "text": [
        "\n",
        "\n",
        "Dictionary:"
       ]
      },
      {
       "output_type": "stream",
       "stream": "stdout",
       "text": [
        " {'2MASS_RA': 327.795937, 'DEC_STRING': '+28 51 50.3565', 'B': 10.25, 'I': 10.831, 'RA_LIST': [21.0, 51.0, 11.02142], 'K': 11.556, 'J': 11.275, '2MASS_H': 11.438, '2MASS_identifier': '21511102+2851504 ', '2MASS_DEC': 28.864004, 'DEC_LIST': [28.0, 51.0, 50.3565], 'U': 8.922, 'SPEC_TYPE': 'sdO', 'H': 11.438, 'V': 10.58, 'R': 10.656, 'RA_STRING': '21 51 11.02142', 'ID': 'WD 2148+286', '2MASS_J': 11.275, '2MASS_K': 11.556}\n",
        "\n",
        "U-band magnitude: 8.922\n",
        "\n",
        "Typical keys: 2MASS_RA, DEC_STRING, B, I, RA_LIST, K, J, 2MASS_H, 2MASS_identifier, 2MASS_DEC, DEC_LIST, U, SPEC_TYPE, H, V, R, RA_STRING, ID, 2MASS_J, 2MASS_K\n"
       ]
      }
     ],
     "prompt_number": 9
    },
    {
     "cell_type": "markdown",
     "metadata": {},
     "source": [
      "**Typical keys**: \n",
      "\n",
      "* `RA_STRING`: The right ascension in string format as it appears in SIMBAD\n",
      "\n",
      "* `DEC_STRING`: The declination in string format as it appears in SIMBAD\n",
      "\n",
      "* `U, V, R, B, I, K, J, H`, etc: The magnitudes in all available bands on the SIMBAD page\n",
      "\n",
      "* `RA_LIST`: The right ascension in list format [HH,MM,SS] as it appears in SIMBAD\n",
      "\n",
      "* `DEC_LIST`: The right ascension in list format [deg,MM,SS] as it appears in SIMBAD\n",
      "\n",
      "* `SPEC_TYPE`: Spectral type of the star\n",
      "\n",
      "* `ID`: Primary SIMBAD identifier"
     ]
    },
    {
     "cell_type": "heading",
     "level": 3,
     "metadata": {},
     "source": [
      "Querying Vizier for the star's SDSS magnitudes"
     ]
    },
    {
     "cell_type": "code",
     "collapsed": false,
     "input": [
      "# Just grab info about the target from Vizier\n",
      "whitedwarf.querySDSS_target()\n",
      "\n",
      "# Print the updated dictionary\n",
      "print 'Dictionary with new SDSS magnitudes:', whitedwarf.dictionary"
     ],
     "language": "python",
     "metadata": {},
     "outputs": [
      {
       "output_type": "stream",
       "stream": "stdout",
       "text": [
        "Dictionary with new SDSS magnitudes: {'H': 11.438, 'K': 11.556, 'B': 10.25, 'SDSS_g': 14.299, 'I': 10.831, 'RA_LIST': [21.0, 51.0, 11.02142], '2MASS_RA': 327.795937, 'J': 11.275, 'SDSS_i': 14.307, 'SDSS_r': 14.269, 'R': 10.656, 'U': 8.922, 'SDSS_u': 15.964, 'V': 10.58, 'SDSS_z': 14.508, '2MASS_H': 11.438, 'ID': 'WD 2148+286', '2MASS_J': 11.275, '2MASS_K': 11.556, 'DEC_STRING': '+28 51 50.3565', '2MASS_identifier': '21511102+2851504 ', '2MASS_DEC': 28.864004, 'DEC_LIST': [28.0, 51.0, 50.3565], 'SPEC_TYPE': 'sdO', 'RA_STRING': '21 51 11.02142'}\n"
       ]
      }
     ],
     "prompt_number": 10
    },
    {
     "cell_type": "heading",
     "level": 3,
     "metadata": {},
     "source": [
      "Query Vizier for comparison stars"
     ]
    },
    {
     "cell_type": "code",
     "collapsed": false,
     "input": [
      "# Grab info about the comparison stars from Vizier, searching for stars in an annulus around the target star\n",
      "# The arguments used below are the defaults\n",
      "R_min = 0.01   # Inner radius of the query annulus in arcminutes\n",
      "R_max = 6      # Outer radius of the query annulus in arcminutes\n",
      "comps = 5      # Number of comparison stars to store info from\n",
      "whitedwarf.querySDSS_comparisons(radiusMin=R_min, radiusMax=R_max, Ncomps=comps)\n",
      "\n",
      "# Print the updated dictionary\n",
      "print 'Dictionary with SDSS comparisons:', whitedwarf.dictionary"
     ],
     "language": "python",
     "metadata": {},
     "outputs": [
      {
       "output_type": "stream",
       "stream": "stdout",
       "text": [
        "Querying Vizier for WD 2148+286 comparisons in catalog: SDSS-DR9...\n",
        "Dictionary with SDSS comparisons:"
       ]
      },
      {
       "output_type": "stream",
       "stream": "stdout",
       "text": [
        " {'comp_i': {'J215048.49+285157.9': 11.052, 'J215101.25+285205.1': 12.385, 'J215103.79+285359.5': 11.824, 'J215048.78+285040.6': 12.513, 'J215109.90+285505.5': 12.658}, 'comp_g': {'J215110.97+285149.5': 10.277, 'J215048.49+285157.9': 11.557, 'J215117.03+285434.4': 13.933, 'J215048.78+285040.6': 12.958, 'J215119.70+285010.3': 14.221}, 'comp_u_sources': ['J215110.97+285149.5', 'J215048.49+285157.9', 'J215054.35+284943.0', 'J215048.78+285040.6', 'J215101.25+285205.1'], 'comp_z_mags': [11.337, 12.804, 12.98, 13.222, 13.245], 'comp_z': {'J215048.49+285157.9': 11.337, 'J215101.25+285205.1': 13.245, 'J215054.35+284943.0': 12.804, 'J215048.78+285040.6': 13.222, 'J215109.90+285505.5': 12.98}, 'comp_u': {'J215110.97+285149.5': 9.977, 'J215048.49+285157.9': 13.222, 'J215101.25+285205.1': 14.978, 'J215054.35+284943.0': 14.374, 'J215048.78+285040.6': 14.894}, 'comp_r': {'J215048.49+285157.9': 11.137, 'J215101.25+285205.1': 12.476, 'J215101.56+285342.0': 12.106, 'J215048.78+285040.6': 12.536, 'J215054.35+284943.0': 12.84}, 'comp_r_sources': ['J215048.49+285157.9', 'J215101.56+285342.0', 'J215101.25+285205.1', 'J215048.78+285040.6', 'J215054.35+284943.0'], 'comp_i_sources': ['J215048.49+285157.9', 'J215103.79+285359.5', 'J215101.25+285205.1', 'J215048.78+285040.6', 'J215109.90+285505.5'], 'comp_u_mags': [9.977, 13.222, 14.374, 14.894, 14.978], 'H': 11.438, 'comp_r_mags': [11.137, 12.106, 12.476, 12.536, 12.84], 'K': 11.556, 'B': 10.25, 'SDSS_g': 14.299, 'I': 10.831, 'RA_LIST': [21.0, 51.0, 11.02142], '2MASS_RA': 327.795937, 'J': 11.275, 'SDSS_i': 14.307, 'SDSS_r': 14.269, 'R': 10.656, 'U': 8.922, 'SDSS_u': 15.964, 'V': 10.58, 'SDSS_z': 14.508, '2MASS_H': 11.438, 'ID': 'WD 2148+286', '2MASS_J': 11.275, '2MASS_K': 11.556, 'DEC_STRING': '+28 51 50.3565', 'comp_z_sources': ['J215048.49+285157.9', 'J215054.35+284943.0', 'J215109.90+285505.5', 'J215048.78+285040.6', 'J215101.25+285205.1'], 'comp_g_sources': ['J215110.97+285149.5', 'J215048.49+285157.9', 'J215048.78+285040.6', 'J215117.03+285434.4', 'J215119.70+285010.3'], '2MASS_identifier': '21511102+2851504 ', 'comp_i_mags': [11.052, 11.824, 12.385, 12.513, 12.658], '2MASS_DEC': 28.864004, 'DEC_LIST': [28.0, 51.0, 50.3565], 'SPEC_TYPE': 'sdO', 'RA_STRING': '21 51 11.02142', 'comp_g_mags': [10.277, 11.557, 12.958, 13.933, 14.221]}\n"
       ]
      }
     ],
     "prompt_number": 11
    },
    {
     "cell_type": "markdown",
     "metadata": {},
     "source": [
      "Woah! That's a lot of information. Let's break it down by looking at just the comparisons in the `g` band:"
     ]
    },
    {
     "cell_type": "code",
     "collapsed": false,
     "input": [
      "print 'Dicionary of comparison star names and magnitudes:', whitedwarf.dictionary['comp_g']\n",
      "\n",
      "print '\\nJust the names:', whitedwarf.dictionary['comp_g_sources']\n",
      "\n",
      "print '\\nJust the magnitudes:', whitedwarf.dictionary['comp_g_mags']"
     ],
     "language": "python",
     "metadata": {},
     "outputs": [
      {
       "output_type": "stream",
       "stream": "stdout",
       "text": [
        "Dicionary of comparison star names and magnitudes: {'J215110.97+285149.5': 10.277, 'J215048.49+285157.9': 11.557, 'J215117.03+285434.4': 13.933, 'J215048.78+285040.6': 12.958, 'J215119.70+285010.3': 14.221}\n",
        "\n",
        "Just the names: ['J215110.97+285149.5', 'J215048.49+285157.9', 'J215048.78+285040.6', 'J215117.03+285434.4', 'J215119.70+285010.3']\n",
        "\n",
        "Just the magnitudes: [10.277, 11.557, 12.958, 13.933, 14.221]\n"
       ]
      }
     ],
     "prompt_number": 12
    },
    {
     "cell_type": "markdown",
     "metadata": {},
     "source": [
      "Now let's use `numpy` to get the stars with similar magnitudes:"
     ]
    },
    {
     "cell_type": "code",
     "collapsed": false,
     "input": [
      "# First we need to grab a LOT of comparison stars\n",
      "whitedwarf.querySDSS_comparisons(Ncomps = 250)\n",
      "\n",
      "# Then we'll look for comparison stars with similar magnitudes\n",
      "queryband = 'g'\n",
      "withinmags = 1 # +/- this number of magntidues from the target\n",
      "print '\\nSources and magnitudes within 1 magnitude in the g band:\\n', whitedwarf.SDSScomps_nearest(queryband, withinmags)"
     ],
     "language": "python",
     "metadata": {},
     "outputs": [
      {
       "output_type": "stream",
       "stream": "stdout",
       "text": [
        "Querying Vizier for WD 2148+286 comparisons in catalog: SDSS-DR9...\n",
        "\n",
        "Sources and magnitudes within 1 magnitude in the g band:\n"
       ]
      },
      {
       "output_type": "stream",
       "stream": "stdout",
       "text": [
        "{'J215048.21+285249.2': 15.194, 'J215117.78+285131.2': 15.034, 'J215054.35+284943.0': 15.048, 'J215055.68+284943.4': 15.037, 'J215101.90+284949.8': 15.293, 'J215101.56+285342.0': 14.454, 'J215122.96+285009.6': 14.864, 'J215116.98+285337.0': 15.23, 'J215127.73+284744.1': 14.759, 'J215105.92+285609.9': 15.283, 'J215058.85+285210.1': 15.188, 'J215104.17+285647.3': 14.76, 'J215122.95+285112.5': 14.529, 'J215056.12+284939.0': 15.279, 'J215110.95+285153.7': 14.299, 'J215117.03+285434.4': 13.933, 'J215059.68+284839.1': 15.25, 'J215119.70+285010.3': 14.221, 'J215101.84+284820.8': 15.073, 'J215109.90+285505.5': 14.512, 'J215124.83+285325.8': 15.293, 'J215048.19+285248.6': 14.976}\n"
       ]
      }
     ],
     "prompt_number": 13
    }
   ],
   "metadata": {}
  }
 ]
}
