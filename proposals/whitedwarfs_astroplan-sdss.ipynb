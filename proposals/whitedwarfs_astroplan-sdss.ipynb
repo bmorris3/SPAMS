{
 "cells": [
  {
   "cell_type": "markdown",
   "metadata": {},
   "source": [
    "Use `astroquery` to get some tables of white dwarfs, plus SPAMS manually-assembled catalog."
   ]
  },
  {
   "cell_type": "code",
   "execution_count": 33,
   "metadata": {
    "collapsed": false
   },
   "outputs": [],
   "source": [
    "from astroplan import Observer, FixedTarget\n",
    "from astroquery.vizier import Vizier\n",
    "from astropy.coordinates import SkyCoord\n",
    "import astropy.units as u\n",
    "import numpy as np\n",
    "\n",
    "catalog_name = 'J/MNRAS/446/4078/'\n",
    "\n",
    "catalog_list = Vizier.find_catalogs(catalog_name)\n",
    "catalogs = Vizier.get_catalogs(list(catalog_list.keys()))\n",
    "Vizier.ROW_LIMIT = -1       # Otherwise would only show first 50 values\n",
    "catalog_table = catalogs[0] # This is the table with the data\n",
    "\n",
    "RAs = catalog_table['_RAJ2000']\n",
    "Decs = catalog_table['_DEJ2000']\n",
    "sc = SkyCoord(ra=RAs, dec=Decs, frame='icrs')\n",
    "names = catalog_table['SDSS']\n",
    "types = catalog_table['Type']\n",
    "gmag = catalog_table['gmag']"
   ]
  },
  {
   "cell_type": "markdown",
   "metadata": {},
   "source": [
    "[Kepler et al. 2015](http://vizier.u-strasbg.fr.offcampus.lib.washington.edu/viz-bin/VizieR?-source=J%2FMNRAS%2F446%2F4078): WDs in SDSS DR 10"
   ]
  },
  {
   "cell_type": "code",
   "execution_count": 40,
   "metadata": {
    "collapsed": false
   },
   "outputs": [
    {
     "name": "stdout",
     "output_type": "stream",
     "text": [
      "44 stars selected\n"
     ]
    }
   ],
   "source": [
    "max_g = 17.5\n",
    "bright_metal_polluted = np.array(['z' in str(t).lower() and g < max_g\n",
    "                                  for t, g in zip(types.data, \n",
    "                                                  gmag.data)])\n",
    "\n",
    "target_list = [FixedTarget(c, name=\"SDSS{0:s}_{1:.2f}\".format(n.decode('ascii'), g)) \n",
    "               for c, n, g, b in zip(sc, names, gmag, bright_metal_polluted) if b]\n",
    "\n",
    "print('{0} stars selected'.format(len(target_list)))"
   ]
  },
  {
   "cell_type": "code",
   "execution_count": 48,
   "metadata": {
    "collapsed": false
   },
   "outputs": [
    {
     "name": "stdout",
     "output_type": "stream",
     "text": [
      "2016-01-15\n",
      "----------\n",
      "SDSS083006.17+475150.29_15.81\n",
      "SDSS081531.20+245222.62_16.09\n",
      "SDSS075610.70+670424.96_16.38\n",
      "SDSS074323.44+420800.71_17.12\n",
      "SDSS080127.11+141454.88_17.47\n",
      "\n",
      "2016-02-14\n",
      "----------\n",
      "SDSS083006.17+475150.29_15.81\n",
      "SDSS081531.20+245222.62_16.09\n",
      "SDSS115358.81+353928.84_16.27\n",
      "SDSS075610.70+670424.96_16.38\n",
      "SDSS074323.44+420800.71_17.12\n",
      "SDSS091615.48+132833.13_17.31\n",
      "\n",
      "2016-03-15\n",
      "----------\n",
      "SDSS115358.81+353928.84_16.27\n",
      "\n",
      "2016-04-14\n",
      "----------\n",
      "SDSS151913.31+261720.62_15.76\n",
      "SDSS142741.03+014254.94_15.93\n",
      "SDSS143458.49+085425.74_16.12\n",
      "SDSS115358.81+353928.84_16.27\n",
      "SDSS145506.86+094203.96_16.62\n",
      "SDSS150032.31-011404.85_16.67\n",
      "SDSS143350.80+071452.22_16.80\n",
      "SDSS153000.98+211218.18_16.92\n",
      "SDSS135627.84+264110.79_17.00\n",
      "SDSS160741.26+254220.38_17.00\n",
      "SDSS150011.76+064211.48_17.02\n",
      "SDSS151646.27+092631.70_17.02\n",
      "SDSS162345.29+465041.57_17.11\n",
      "SDSS135836.89+184922.84_17.25\n",
      "SDSS145648.83-005613.42_17.34\n",
      "SDSS162310.50+425831.15_17.44\n",
      "\n",
      "2016-05-14\n",
      "----------\n",
      "SDSS164201.51+361726.16_14.72\n",
      "SDSS151913.31+261720.62_15.76\n",
      "SDSS162515.12+174240.13_15.78\n",
      "SDSS163212.26+175318.31_15.78\n",
      "SDSS164858.78+245801.78_15.87\n",
      "SDSS142741.03+014254.94_15.93\n",
      "SDSS165325.76+205659.14_15.98\n",
      "SDSS165816.53+270132.12_16.06\n",
      "SDSS143458.49+085425.74_16.12\n",
      "SDSS145506.86+094203.96_16.62\n",
      "SDSS150032.31-011404.85_16.67\n",
      "SDSS163654.12+345801.20_16.76\n",
      "SDSS143350.80+071452.22_16.80\n",
      "SDSS151903.66+000104.04_16.85\n",
      "SDSS153000.98+211218.18_16.92\n",
      "SDSS135627.84+264110.79_17.00\n",
      "SDSS160741.26+254220.38_17.00\n",
      "SDSS150011.76+064211.48_17.02\n",
      "SDSS151646.27+092631.70_17.02\n",
      "SDSS162345.29+465041.57_17.11\n",
      "SDSS172602.97+310624.66_17.12\n",
      "SDSS164157.55+205724.44_17.13\n",
      "SDSS151642.97-004042.71_17.21\n",
      "SDSS171929.52+273229.33_17.24\n",
      "SDSS135836.89+184922.84_17.25\n",
      "SDSS155642.39+055939.26_17.32\n",
      "SDSS145648.83-005613.42_17.34\n",
      "SDSS162310.50+425831.15_17.44\n",
      "\n",
      "2016-06-13\n",
      "----------\n",
      "SDSS164201.51+361726.16_14.72\n",
      "SDSS151913.31+261720.62_15.76\n",
      "SDSS162515.12+174240.13_15.78\n",
      "SDSS163212.26+175318.31_15.78\n",
      "SDSS164858.78+245801.78_15.87\n",
      "SDSS165325.76+205659.14_15.98\n",
      "SDSS165816.53+270132.12_16.06\n",
      "SDSS163654.12+345801.20_16.76\n",
      "SDSS153000.98+211218.18_16.92\n",
      "SDSS160741.26+254220.38_17.00\n",
      "SDSS151646.27+092631.70_17.02\n",
      "SDSS162345.29+465041.57_17.11\n",
      "SDSS172602.97+310624.66_17.12\n",
      "SDSS164157.55+205724.44_17.13\n",
      "SDSS171929.52+273229.33_17.24\n",
      "SDSS155642.39+055939.26_17.32\n",
      "SDSS162310.50+425831.15_17.44\n",
      "\n",
      "2016-07-13\n",
      "----------\n",
      "SDSS164201.51+361726.16_14.72\n",
      "SDSS164858.78+245801.78_15.87\n",
      "SDSS221048.79+220345.47_15.94\n",
      "SDSS215946.33+215858.55_15.95\n",
      "SDSS165816.53+270132.12_16.06\n",
      "SDSS163654.12+345801.20_16.76\n",
      "SDSS162345.29+465041.57_17.11\n",
      "SDSS172602.97+310624.66_17.12\n",
      "SDSS171929.52+273229.33_17.24\n",
      "SDSS162310.50+425831.15_17.44\n",
      "\n",
      "2016-08-12\n",
      "----------\n",
      "SDSS221048.79+220345.47_15.94\n",
      "SDSS215946.33+215858.55_15.95\n",
      "\n",
      "2016-09-11\n",
      "----------\n",
      "SDSS221048.79+220345.47_15.94\n",
      "SDSS215946.33+215858.55_15.95\n",
      "SDSS004638.30+255131.39_17.39\n",
      "\n",
      "2016-10-11\n",
      "----------\n",
      "SDSS014934.48+240046.76_15.99\n",
      "SDSS015217.94+241850.65_17.03\n",
      "SDSS004638.30+255131.39_17.39\n",
      "\n",
      "2016-11-10\n",
      "----------\n",
      "SDSS014934.48+240046.76_15.99\n",
      "SDSS015217.94+241850.65_17.03\n",
      "\n",
      "2016-12-10\n",
      "----------\n",
      "SDSS075610.70+670424.96_16.38\n",
      "\n"
     ]
    }
   ],
   "source": [
    "obs = Observer.at_site(\"APO\", timezone='US/Mountain')\n",
    "\n",
    "from astroplan import (is_observable, observability_table, \n",
    "                       AltitudeConstraint, AtNightConstraint)\n",
    "from astropy.time import Time\n",
    "\n",
    "constraints = [AltitudeConstraint(min=30*u.deg), \n",
    "               AtNightConstraint.twilight_astronomical()]\n",
    "\n",
    "# Figure out when \"tonight\" is\n",
    "# present_time = Time.now()\n",
    "# if not obs.is_night(present_time):\n",
    "#     # If it's currently day time at runtime, find time of sunset and sunrise\n",
    "#     tonight_start = obs.twilight_evening_astronomical(present_time, which='next')\n",
    "#     tonight_end = obs.twilight_morning_astronomical(present_time, which='next')\n",
    "# else:\n",
    "#     # Otherwise find time to next sunrise\n",
    "#     tonight_start = present_time\n",
    "#     tonight_end = obs.twilight_morning_astronomical(present_time, which='next')\n",
    "\n",
    "days_range = Time('2016-01-15 19:00') + np.arange(0, 365-30, 30)*u.day\n",
    "months = ['Jan', 'Feb', 'Mar', 'Apr', 'May', 'Jun', \n",
    "          'Jul', 'Aug', 'Sep', 'Oct', 'Nov', 'Dec']\n",
    "observable_targets = []\n",
    "# months = months[:3]\n",
    "# days_range = days_range[:3]\n",
    "\n",
    "for month, day in zip(months, days_range):\n",
    "    tonight_start = obs.twilight_evening_astronomical(day, which='next')\n",
    "    tonight_end = obs.twilight_morning_astronomical(day, which='next')\n",
    "    table = observability_table(constraints, obs, target_list, \n",
    "                                time_range=Time([tonight_start, tonight_end]))\n",
    "    seventypercent = table['fraction of time observable'] > 0.75\n",
    "    seventypercent_targets = table['target name'][seventypercent].data\n",
    "    print(\"{0}\\n----------\\n{1}\\n\".format(day.datetime.date(), \n",
    "                                          '\\n'.join(sorted(seventypercent_targets, \n",
    "                                                           key=lambda a: a[-4:]))))\n",
    "    observable_targets.append(seventypercent_targets)"
   ]
  },
  {
   "cell_type": "code",
   "execution_count": 59,
   "metadata": {
    "collapsed": false
   },
   "outputs": [
    {
     "data": {
      "image/png": "[encoded data removed]",
      "text/plain": [
       "<matplotlib.figure.Figure at 0x1096c7128>"
      ]
     },
     "metadata": {},
     "output_type": "display_data"
    }
   ],
   "source": [
    "%matplotlib inline\n",
    "from astroplan.plots import plot_airmass\n",
    "\n",
    "target = 'SDSS083006.17+475150.29_15.81'\n",
    "\n",
    "def sdss_name_to_target(name):\n",
    "    ra = name[4:13]\n",
    "    dec = name[13:-6]\n",
    "    ra = \"{0}h{1}m{2}s\".format(ra[:2], ra[2:4], ra[4:])\n",
    "    dec = \"{0}d{1}m{2}s\".format(dec[:3], dec[3:5], dec[5])\n",
    "    return FixedTarget(SkyCoord(ra=ra, dec=dec), name=name)\n",
    "\n",
    "present_time = Time.now()\n",
    "if not obs.is_night(present_time):\n",
    "    # If it's currently day time at runtime, find time of sunset and sunrise\n",
    "    tonight_start = obs.twilight_evening_astronomical(present_time, which='next')\n",
    "    tonight_end = obs.twilight_morning_astronomical(present_time, which='next')\n",
    "else:\n",
    "    # Otherwise find time to next sunrise\n",
    "    tonight_start = present_time\n",
    "    tonight_end = obs.twilight_morning_astronomical(present_time, which='next')\n",
    "    \n",
    "times = Time(np.linspace(tonight_start.jd, tonight_end.jd, 50), format='jd')\n",
    "plot_airmass(sdss_name_to_target(target), obs, times);"
   ]
  },
  {
   "cell_type": "code",
   "execution_count": null,
   "metadata": {
    "collapsed": true
   },
   "outputs": [],
   "source": []
  }
 ],
 "metadata": {
  "kernelspec": {
   "display_name": "Python 3",
   "language": "python",
   "name": "python3"
  },
  "language_info": {
   "codemirror_mode": {
    "name": "ipython",
    "version": 3
   },
   "file_extension": ".py",
   "mimetype": "text/x-python",
   "name": "python",
   "nbconvert_exporter": "python",
   "pygments_lexer": "ipython3",
   "version": "3.5.1"
  }
 },
 "nbformat": 4,
 "nbformat_minor": 0
}
