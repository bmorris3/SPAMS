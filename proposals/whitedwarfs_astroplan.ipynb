{
 "cells": [
  {
   "cell_type": "markdown",
   "metadata": {},
   "source": [
    "Use `astroquery` to get some tables of white dwarfs, plus SPAMS manually-assembled catalog."
   ]
  },
  {
   "cell_type": "code",
   "execution_count": 66,
   "metadata": {
    "collapsed": false
   },
   "outputs": [],
   "source": [
    "from astroplan import Observer, FixedTarget\n",
    "from astroquery.vizier import Vizier\n",
    "from astropy.coordinates import SkyCoord\n",
    "import astropy.units as u\n",
    "import numpy as np\n",
    "\n",
    "# Targets must be spectral typed and classified \"Z\", must be bright V<13\n",
    "max_V = 14"
   ]
  },
  {
   "cell_type": "markdown",
   "metadata": {},
   "source": [
    "[Holberg et al. 2008](http://adsabs.harvard.edu/abs/2008AJ....135.1225H): WDs within 20 pc."
   ]
  },
  {
   "cell_type": "code",
   "execution_count": 158,
   "metadata": {
    "collapsed": false
   },
   "outputs": [
    {
     "name": "stdout",
     "output_type": "stream",
     "text": [
      "len(holberg)=29\n"
     ]
    }
   ],
   "source": [
    "def query_holberg(sptype_contains=None):\n",
    "    catalog_name = \"J/AJ/135/1225\" #Holberg 2008\"\n",
    "\n",
    "    catalog_list = Vizier.find_catalogs(catalog_name)\n",
    "    catalogs = Vizier.get_catalogs(catalog_list.keys())\n",
    "    Vizier.ROW_LIMIT = -1   # Otherwise would only show first 50 values\n",
    "    catalog_table = catalogs[0] # This is the table with the data\n",
    "\n",
    "    non_binaries = np.array([len(binarity) == 0 for binarity in catalog_table['Bin']])\n",
    "\n",
    "    RAs = u.Quantity(catalog_table['_RAJ2000'].data[non_binaries], unit=u.deg)\n",
    "    Decs = u.Quantity(catalog_table['_DEJ2000'].data[non_binaries], unit=u.deg)\n",
    "    names = list(catalog_table['SimbadName'].data)\n",
    "    sptypes = catalog_table['SpType'].data\n",
    "    V_mags = catalog_table['Vmag'].data < max_V\n",
    "\n",
    "    if sptype_contains is None:\n",
    "        sptype_contains = ''\n",
    "    \n",
    "    holberg = [FixedTarget(coord=SkyCoord(ra=ra, dec=dec), name=name)\n",
    "                 for ra, dec, name, sptype, V_mag in zip(RAs, Decs, names, sptypes, V_mags)\n",
    "                 if sptype_contains.lower() in sptype.lower() and V_mag]\n",
    "    holberg_V_mags = V_mags\n",
    "    return holberg\n",
    "    \n",
    "holberg = query_holberg()\n",
    "holberg_z = query_holberg('z')\n",
    "print('len(holberg)={}'.format(len(holberg)))"
   ]
  },
  {
   "cell_type": "markdown",
   "metadata": {},
   "source": [
    "[McCook et al. 2008](http://adsabs.harvard.edu/cgi-bin/bib_query?1999ApJS..121....1M) is one of the biggest lists."
   ]
  },
  {
   "cell_type": "code",
   "execution_count": 162,
   "metadata": {
    "collapsed": false
   },
   "outputs": [
    {
     "name": "stdout",
     "output_type": "stream",
     "text": [
      "len(mccook)=4\n"
     ]
    },
    {
     "name": "stderr",
     "output_type": "stream",
     "text": [
      "/astro/apps6/anaconda2.0/lib/python2.7/site-packages/ipykernel/__main__.py:11: RuntimeWarning: invalid value encountered in less\n"
     ]
    }
   ],
   "source": [
    "def query_mccook(sptype_contains=None):\n",
    "\n",
    "    catalog_name = \"III/235B/\"\n",
    "\n",
    "    catalog_list = Vizier.find_catalogs(catalog_name)\n",
    "    catalogs = Vizier.get_catalogs(catalog_list.keys())\n",
    "    Vizier.ROW_LIMIT = -1   # Otherwise would only show first 50 values\n",
    "    catalog_table = catalogs[0] # This is the table with the data\n",
    "\n",
    "    non_binaries = np.array([len(binarity) == 0 for binarity in catalog_table['bNote'].data])\n",
    "    V_mags = catalog_table['Vmag'].data < max_V\n",
    "\n",
    "    RAs = u.Quantity(catalog_table['_RAJ2000'].data[non_binaries], unit=u.deg)\n",
    "    Decs = u.Quantity(catalog_table['_DEJ2000'].data[non_binaries], unit=u.deg)\n",
    "    \n",
    "    if sptype_contains is None:\n",
    "        sptype_contains = ''\n",
    "    \n",
    "    mccook = [FixedTarget(coord=SkyCoord(ra=ra, dec=dec), name=name)\n",
    "              for ra, dec, name, sptype, V_mag in zip(RAs, Decs, names, sptypes, V_mags)\n",
    "              if sptype_contains in sptype.lower() and V_mag]\n",
    "    mccook_V_mags = V_mags\n",
    "    return mccook\n",
    "\n",
    "mccook = query_mccook()\n",
    "mccook_z = query_mccook('z')\n",
    "print('len(mccook)={}'.format(len(mccook)))"
   ]
  },
  {
   "cell_type": "code",
   "execution_count": 184,
   "metadata": {
    "collapsed": false
   },
   "outputs": [],
   "source": [
    "obs = Observer.at_site(\"APO\", timezone='US/Mountain')\n",
    "target_list = holberg + mccook\n",
    "#target_list = holberg_z + mccook_z\n",
    "V_mag_list = list(holberg_V_mags) + list(mccook_V_mags)\n",
    "\n",
    "from astroplan import is_observable, observability_table, AltitudeConstraint, AtNightConstraint\n",
    "from astropy.time import Time\n",
    "\n",
    "constraints = [AltitudeConstraint(min=30*u.deg), \n",
    "               AtNightConstraint.twilight_astronomical()]\n",
    "\n",
    "# Figure out when \"tonight\" is\n",
    "# present_time = Time.now()\n",
    "# if not obs.is_night(present_time):\n",
    "#     # If it's currently day time at runtime, find time of sunset and sunrise\n",
    "#     tonight_start = obs.twilight_evening_astronomical(present_time, which='next')\n",
    "#     tonight_end = obs.twilight_morning_astronomical(present_time, which='next')\n",
    "# else:\n",
    "#     # Otherwise find time to next sunrise\n",
    "#     tonight_start = present_time\n",
    "#     tonight_end = obs.twilight_morning_astronomical(present_time, which='next')\n",
    "\n",
    "days_range = Time('2015-09-23 19:00') + np.array([0, 30, 60, 90])*u.day\n",
    "months = ['Sept', 'Oct', 'Nov', 'Dec']\n",
    "observable_targets = []\n",
    "for day in days_range:\n",
    "    tonight_start = obs.twilight_evening_astronomical(day, which='next')\n",
    "    tonight_end = obs.twilight_morning_astronomical(day, which='next')\n",
    "    table = observability_table(constraints, obs, target_list, \n",
    "                                time_range=Time([tonight_start, tonight_end]))\n",
    "    seventypercent = table['fraction of time observable'] > 0.7\n",
    "    seventypercent_targets = table['target name'][seventypercent].data\n",
    "    observable_targets.append(seventypercent_targets)"
   ]
  },
  {
   "cell_type": "code",
   "execution_count": 189,
   "metadata": {
    "collapsed": false
   },
   "outputs": [
    {
     "name": "stdout",
     "output_type": "stream",
     "text": [
      "Sept: WD 0046+051, WD 0115+159, WD 0135-052, WD 0141-675, WD 1620-391\n",
      "Oct: WD 0046+051, WD 0115+159, WD 0135-052, WD 0141-675\n",
      "Nov: WD 0135-052, WD 0141-675, WD 0310-688\n",
      "Dec: WD 0426+588, WD 0435-088\n"
     ]
    }
   ],
   "source": [
    "for month, t, in zip(months, observable_targets):\n",
    "    print(\"{}: {}\".format(month, ', '.join(list(t))))\n",
    "#unpack_targets = set(reduce(list.__add__, [list(t) for t in all_targets]))\n",
    "#print(unpack_targets)"
   ]
  },
  {
   "cell_type": "code",
   "execution_count": null,
   "metadata": {
    "collapsed": true
   },
   "outputs": [],
   "source": []
  }
 ],
 "metadata": {
  "kernelspec": {
   "display_name": "Python 2",
   "language": "python",
   "name": "python2"
  },
  "language_info": {
   "codemirror_mode": {
    "name": "ipython",
    "version": 2
   },
   "file_extension": ".py",
   "mimetype": "text/x-python",
   "name": "python",
   "nbconvert_exporter": "python",
   "pygments_lexer": "ipython2",
   "version": "2.7.10"
  }
 },
 "nbformat": 4,
 "nbformat_minor": 0
}
